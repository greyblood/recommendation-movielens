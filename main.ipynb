{
 "cells": [
  {
   "cell_type": "code",
   "execution_count": 2,
   "id": "1ec3a365-609d-44a5-941c-0c631b818ccc",
   "metadata": {},
   "outputs": [],
   "source": [
    "import pandas as pd\n",
    "from surprise import Dataset, Reader, SVD\n",
    "from surprise.model_selection import train_test_split\n",
    "from surprise import accuracy\n",
    "import matplotlib.pyplot as plt"
   ]
  },
  {
   "cell_type": "code",
   "execution_count": 3,
   "id": "b4fb6db5-9ea8-4a92-8817-65038591c484",
   "metadata": {},
   "outputs": [],
   "source": [
    "\n",
    "def load_data():\n",
    "    ratings = pd.read_csv('ml-100k/ml-100k/u.data', sep='\\t', names=['userId', 'movieId', 'rating', 'timestamp'])\n",
    "    movies = pd.read_csv('ml-100k/ml-100k/u.item', sep='|', names=['movieId', 'title'], usecols=[0, 1], encoding='latin-1')\n",
    "    return ratings, movies"
   ]
  },
  {
   "cell_type": "code",
   "execution_count": 4,
   "id": "8afd66b9-0cfc-44ac-82e4-d7944fde2131",
   "metadata": {},
   "outputs": [],
   "source": [
    "def preprocess_data(ratings):\n",
    "    user_item_matrix = ratings.pivot(index='userId', columns='movieId', values='rating').fillna(0)\n",
    "    return user_item_matrix"
   ]
  },
  {
   "cell_type": "code",
   "execution_count": 5,
   "id": "44a7b517-fac2-4c2a-bc1e-9e0d28fd59d8",
   "metadata": {},
   "outputs": [],
   "source": [
    "def train_model(ratings):\n",
    "    reader = Reader(rating_scale=(1, 5))\n",
    "    data = Dataset.load_from_df(ratings[['userId', 'movieId', 'rating']], reader)\n",
    "    trainset, testset = train_test_split(data, test_size=0.2)\n",
    "    \n",
    "    algo = SVD()\n",
    "    algo.fit(trainset)\n",
    "    predictions = algo.test(testset)\n",
    "    return predictions"
   ]
  },
  {
   "cell_type": "code",
   "execution_count": 6,
   "id": "5864f958-49bb-4831-b8d8-cfdcd2bf1c09",
   "metadata": {},
   "outputs": [],
   "source": [
    "def get_recommendations(predictions, n = 10):\n",
    "    top_n = {}\n",
    "    for uid, iid, true_r, est, _ in predictions:\n",
    "        if uid not in top_n:\n",
    "            top_n[uid] = []\n",
    "        top_n[uid].append((iid, est))\n",
    "    \n",
    "    for uid, user_ratings in top_n.items():\n",
    "        user_ratings.sort(key=lambda x: x[1], reverse=True)\n",
    "        top_n[uid] = user_ratings[:n]\n",
    "    \n",
    "    return top_n"
   ]
  },
  {
   "cell_type": "code",
   "execution_count": 11,
   "id": "ca6bf798-a96c-4f8c-86c6-ccf709e4f775",
   "metadata": {},
   "outputs": [],
   "source": [
    "def plot_rating_distribution(ratings):\n",
    "    plt.hist(ratings['rating'], bins=5, edgecolor='black')\n",
    "    plt.title('Distribution of Ratings')\n",
    "    plt.xlabel('Rating')\n",
    "    plt.ylabel('Frequency')\n",
    "    plt.show()"
   ]
  },
  {
   "cell_type": "code",
   "execution_count": 12,
   "id": "cdfe5537-b115-472f-b5eb-643fbd23a3bb",
   "metadata": {
    "scrolled": true
   },
   "outputs": [
    {
     "name": "stdin",
     "output_type": "stream",
     "text": [
      "Enter userId:  10\n"
     ]
    },
    {
     "name": "stdout",
     "output_type": "stream",
     "text": [
      "Recommended Movies for User 10:\n",
      "     movieId                                              title\n",
      "58        59                           Three Colors: Red (1994)\n",
      "97        98                   Silence of the Lambs, The (1991)\n",
      "126      127                              Godfather, The (1972)\n",
      "169      170                             Cinema Paradiso (1988)\n",
      "181      182                                  GoodFellas (1990)\n",
      "198      199               Bridge on the River Kwai, The (1957)\n",
      "473      474  Dr. Strangelove or: How I Learned to Stop Worr...\n",
      "479      480                          North by Northwest (1959)\n",
      "518      519           Treasure of the Sierra Madre, The (1948)\n",
      "655      656                                           M (1931)\n"
     ]
    }
   ],
   "source": [
    "user_id = int(input(\"Enter userId: \"))\n",
    "ratings, movies = load_data()\n",
    "# print(ratings.head())\n",
    "# print(movies.head())\n",
    "user_item_matrix = preprocess_data(ratings)\n",
    "# print(user_item_matrix.head())\n",
    "# plot_rating_distribution(ratings)\n",
    "predictions = train_model(ratings)\n",
    "# print(\"RMSE:\", accuracy.rmse(predictions))\n",
    "top_n = get_recommendations(predictions)\n",
    "if user_id in top_n:\n",
    "    recommended_movies = top_n[user_id]\n",
    "    recommended_movie_ids = [movie[0] for movie in recommended_movies]\n",
    "    recommended_titles = movies[movies['movieId'].isin(recommended_movie_ids)]\n",
    "    print(f\"Recommended Movies for User {user_id}:\")\n",
    "    print(recommended_titles)\n",
    "else:\n",
    "    print(f\"No recommendations available for User {user_id}.\")\n"
   ]
  },
  {
   "cell_type": "code",
   "execution_count": null,
   "id": "4be92bd0-f3e2-4fab-baee-887e3ba2ce80",
   "metadata": {},
   "outputs": [],
   "source": []
  },
  {
   "cell_type": "code",
   "execution_count": null,
   "id": "7cca55ba-ba4d-4416-ab55-ef7d0b18b315",
   "metadata": {},
   "outputs": [],
   "source": []
  }
 ],
 "metadata": {
  "kernelspec": {
   "display_name": "Python 3 (ipykernel)",
   "language": "python",
   "name": "python3"
  },
  "language_info": {
   "codemirror_mode": {
    "name": "ipython",
    "version": 3
   },
   "file_extension": ".py",
   "mimetype": "text/x-python",
   "name": "python",
   "nbconvert_exporter": "python",
   "pygments_lexer": "ipython3",
   "version": "3.10.1"
  }
 },
 "nbformat": 4,
 "nbformat_minor": 5
}
